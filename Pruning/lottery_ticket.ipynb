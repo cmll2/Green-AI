{
 "cells": [
  {
   "cell_type": "markdown",
   "metadata": {},
   "source": [
    "# Lottery ticket hypothesis test\n",
    "\n",
    "#### Here is a notebook that aims to find the 'lottery ticket', which is an hypothesis that says that there exists a sub-neural net within your whole NN that could do the same results with significantly less connections"
   ]
  },
  {
   "cell_type": "markdown",
   "metadata": {},
   "source": [
    "## Imports"
   ]
  },
  {
   "cell_type": "code",
   "execution_count": 1,
   "metadata": {},
   "outputs": [],
   "source": [
    "import torch\n",
    "import torchvision\n",
    "import codecarbon\n",
    "from codecarbon import EmissionsTracker\n",
    "import pandas as pd"
   ]
  },
  {
   "cell_type": "markdown",
   "metadata": {},
   "source": [
    "## Base functions and class\n",
    "\n",
    "We here create the base model class and the base functions to load the data, train and test the model."
   ]
  },
  {
   "cell_type": "code",
   "execution_count": 2,
   "metadata": {},
   "outputs": [],
   "source": [
    "def load_mnist(): # Load MNIST dataset\n",
    "    transform = torchvision.transforms.Compose([ # Preprocess images\n",
    "        torchvision.transforms.ToTensor(),\n",
    "        torchvision.transforms.Normalize((0.1307,), (0.3081,))\n",
    "    ])\n",
    "    trainset = torchvision.datasets.MNIST(root='./data', train=True, download=True, transform=transform) # Load training set\n",
    "    trainloader = torch.utils.data.DataLoader(trainset, batch_size=4, shuffle=True, num_workers=2) # Create dataloader\n",
    "    testset = torchvision.datasets.MNIST(root='./data', train=False, download=True, transform=transform) # Load test set \n",
    "    testloader = torch.utils.data.DataLoader(testset, batch_size=4, shuffle=False, num_workers=2) # Create dataloader\n",
    "    return trainloader, testloader\n",
    "\n",
    "class MNIST_Model(torch.nn.Module): # Define model\n",
    "    def __init__(self):\n",
    "        super(MNIST_Model, self).__init__()\n",
    "        self.conv1 = torch.nn.Conv2d(1, 6, 5)\n",
    "        self.pool = torch.nn.MaxPool2d(2, 2)\n",
    "        self.conv2 = torch.nn.Conv2d(6, 16, 5)\n",
    "        self.fc1 = torch.nn.Linear(16 * 4 * 4, 120)\n",
    "        self.fc2 = torch.nn.Linear(120, 84)\n",
    "        self.fc3 = torch.nn.Linear(84, 10)\n",
    "\n",
    "    def forward(self, x): # Forward pass\n",
    "        x = self.pool(torch.nn.functional.relu(self.conv1(x)))\n",
    "        x = self.pool(torch.nn.functional.relu(self.conv2(x)))\n",
    "        x = x.view(-1, 16 * 4 * 4)\n",
    "        x = torch.nn.functional.relu(self.fc1(x))\n",
    "        x = torch.nn.functional.relu(self.fc2(x))\n",
    "        x = self.fc3(x)\n",
    "        return x\n",
    "    \n",
    "def train_model(model, trainloader, criterion, optimizer, epochs=2): # Train model\n",
    "    for epoch in range(epochs): # Loop over the dataset multiple times\n",
    "        running_loss = 0.0\n",
    "        for i, data in enumerate(trainloader, 0): # Get the inputs\n",
    "            inputs, labels = data\n",
    "            optimizer.zero_grad() # Zero the parameter gradients\n",
    "            outputs = model(inputs) # Forward pass\n",
    "            loss = criterion(outputs, labels) # Compute loss\n",
    "            loss.backward() # Backward pass\n",
    "            optimizer.step() # Optimize & update weights\n",
    "            running_loss += loss.item()  # Print statistics\n",
    "            if i % 2000 == 1999: \n",
    "                print(f'[{epoch + 1}, {i + 1}] loss: {running_loss / 2000:.3f}') \n",
    "                running_loss = 0.0\n",
    "    print('Finished Training')\n",
    "\n",
    "def test_model(model, testloader):\n",
    "    correct = 0\n",
    "    total = 0\n",
    "    with torch.no_grad(): # Disable gradient tracking\n",
    "        for data in testloader: # Loop over the test set\n",
    "            images, labels = data # Get the inputs\n",
    "            outputs = model(images) # Forward pass\n",
    "            _, predicted = torch.max(outputs.data, 1) # Get the class with the highest probability\n",
    "            total += labels.size(0) # Total number of labels\n",
    "            correct += (predicted == labels).sum().item() # Number of correct predictions\n",
    "    acc = 100 * correct / total # Compute accuracy\n",
    "    #print(f'Accuracy of the network on the 10000 test images: {acc:.2f}%')\n",
    "\n",
    "    return acc"
   ]
  },
  {
   "cell_type": "markdown",
   "metadata": {},
   "source": [
    "## Train a base model to compare afterwards"
   ]
  },
  {
   "cell_type": "code",
   "execution_count": 3,
   "metadata": {},
   "outputs": [
    {
     "name": "stdout",
     "output_type": "stream",
     "text": [
      "[1, 2000] loss: 0.919\n",
      "[1, 4000] loss: 0.211\n",
      "[1, 6000] loss: 0.136\n",
      "[1, 8000] loss: 0.119\n",
      "[1, 10000] loss: 0.097\n",
      "[1, 12000] loss: 0.091\n",
      "[1, 14000] loss: 0.071\n",
      "[2, 2000] loss: 0.064\n",
      "[2, 4000] loss: 0.064\n",
      "[2, 6000] loss: 0.066\n",
      "[2, 8000] loss: 0.061\n",
      "[2, 10000] loss: 0.064\n",
      "[2, 12000] loss: 0.048\n",
      "[2, 14000] loss: 0.055\n",
      "Finished Training\n"
     ]
    }
   ],
   "source": [
    "# Load the data\n",
    "\n",
    "trainloader, testloader = load_mnist()\n",
    "\n",
    "# Define the model\n",
    "\n",
    "model = MNIST_Model() # Create model\n",
    "\n",
    "# Define the loss function and optimizer\n",
    "\n",
    "criterion = torch.nn.CrossEntropyLoss() # Loss function\n",
    "optimizer = torch.optim.SGD(model.parameters(), lr=0.001, momentum=0.9)  # Optimizer\n",
    "\n",
    "# Train the model\n",
    "\n",
    "train_model(model, trainloader, criterion, optimizer) # Train the model\n",
    "\n",
    "# Test the model\n",
    "\n",
    "model_acc = test_model(model, testloader) # Test the model"
   ]
  },
  {
   "cell_type": "markdown",
   "metadata": {},
   "source": [
    "## Define the pruning method\n",
    "\n",
    "We will create a class based on the torch.nn.utils.prune.BasePruningMethod which will permit us to create a mask on the weight in order to set them to zero\n",
    "\n",
    "We will also have a small function that counts our zero parameter to verify that it is working"
   ]
  },
  {
   "cell_type": "code",
   "execution_count": 4,
   "metadata": {},
   "outputs": [],
   "source": [
    "from torch.nn.utils import prune # This module provides an interface for model pruning  \n",
    "\n",
    "class PercentagePruning(prune.BasePruningMethod): # This class aims to prune a percentage of the weights (the ones with the lowest absolute value)\n",
    "    PRUNING_TYPE = 'unstructured' # Unstructured pruning\n",
    "\n",
    "    def __init__(self, percentage): # Constructor\n",
    "        self.percentage = percentage\n",
    "\n",
    "    def compute_mask(self, tensor, default_mask): # This function computes the mask for the tensor\n",
    "        \n",
    "        mask = default_mask.clone()\n",
    "        numel = mask.numel()\n",
    "\n",
    "        if numel == 0:\n",
    "            return mask\n",
    "        \n",
    "        weight_values = tensor.flatten().abs() # Get the absolute value of the weights\n",
    "\n",
    "        k = int(numel * self.percentage) # Compute the number of weights to prune\n",
    "\n",
    "        # find threshold value\n",
    "\n",
    "        threshold = weight_values.kthvalue(k).values # Compute the threshold value for pruning the correct percentage of weights\n",
    "\n",
    "        # generate mask\n",
    "\n",
    "        return torch.abs(tensor) > threshold # Generate the mask\n",
    "        \n",
    "    \n",
    "def compute_parameters_number(model, eps = 1e-7): # This function computes the number of parameters different from zero in the model\n",
    "    weight_values = torch.cat([tensor.flatten() for name, tensor in model.state_dict().items() if 'weight' in name]) # Get the weights of the model\n",
    "    return sum(weight_values.abs() > eps).item() # Return the number of weights different from zero\n"
   ]
  },
  {
   "cell_type": "markdown",
   "metadata": {},
   "source": [
    "## Pruning our model\n",
    "\n",
    "Let's try our pruning method before iterating with it later for our hypothesis"
   ]
  },
  {
   "cell_type": "code",
   "execution_count": 5,
   "metadata": {},
   "outputs": [
    {
     "name": "stdout",
     "output_type": "stream",
     "text": [
      "Number of parameters in the original model: 44190\n",
      "Number of parameters in the pruned model: 22095\n"
     ]
    }
   ],
   "source": [
    "import copy # This module provides generic shallow and deep copy operations\n",
    "pruned_model = copy.deepcopy(model) # Create a copy of the model\n",
    "\n",
    "# parameters to prune\n",
    "parameters_to_prune = [] # List of parameters to prune\n",
    "\n",
    "for name, module in pruned_model.named_modules(): # Loop over the modules of the model\n",
    "    if isinstance(module, torch.nn.Conv2d) or isinstance(module, torch.nn.Linear): # If the module is a convolutional or linear layer\n",
    "        parameters_to_prune.append((module, 'weight')) # Add the weights of the module to the list of parameters to prune\n",
    "\n",
    "prune.global_unstructured( # Prune the model\n",
    "    parameters_to_prune,\n",
    "    pruning_method=PercentagePruning,\n",
    "    percentage=0.5,\n",
    ")\n",
    "\n",
    "# prune remove\n",
    "for module, name in parameters_to_prune: # Loop over the parameters to prune\n",
    "    prune.remove(module, name) # Apply the mask to the weights\n",
    "\n",
    "print(f'Number of parameters in the original model: {compute_parameters_number(model)}') \n",
    "print(f'Number of parameters in the pruned model: {compute_parameters_number(pruned_model)}')"
   ]
  },
  {
   "cell_type": "markdown",
   "metadata": {},
   "source": [
    "#### Now, that it effectively set the right amount of weight, let's compare the losses and fine_tune the model too"
   ]
  },
  {
   "cell_type": "code",
   "execution_count": 6,
   "metadata": {},
   "outputs": [],
   "source": [
    "pruned_before_retrain_acc = test_model(pruned_model, testloader) # Test the pruned model"
   ]
  },
  {
   "cell_type": "markdown",
   "metadata": {},
   "source": [
    "## Pytorch's problem\n",
    "\n",
    "#### Pytorch doesn't support the 'true' removal of the weights, so in order to handle this problem we will modify a little the training process.\n",
    "\n",
    "We have to way of implementing this :\n",
    "\n",
    "-First, create a mask where we note who are the already pruned weights (i.e the zeros) and then while computing the gradient we set those weights' gradients to zero so that they won't be updated. However, this could not work with certain type of optimizer / loss function where the weights would still be updated.\n",
    "\n",
    "You can check this implementation below but we will use another one which is pretty similar :\n",
    "\n",
    "-We create the same mask and instead of preventing the update, we will simply set them back to zero after the update."
   ]
  },
  {
   "cell_type": "code",
   "execution_count": 7,
   "metadata": {},
   "outputs": [],
   "source": [
    "def train_pruned_model_mask(model, trainloader, criterion, optimizer, epochs=2, eps = 1e-7): #eps because of the floating point inaccuracy\n",
    "    # this method works only with certain optimizer / loss function as sometimes the weights will still be updated even if the gradient is zero\n",
    "    locked_masks = {n: torch.abs(w) < eps for n, w in model.named_parameters() if n.endswith('weight')}  # Get a copy of the already pruned weights\n",
    "    for epoch in range(epochs): \n",
    "        running_loss = 0.0\n",
    "        for _, data in enumerate(trainloader, 0): \n",
    "            inputs, labels = data \n",
    "            optimizer.zero_grad() # Zero the parameter gradients\n",
    "            outputs = model(inputs)# Forward pass\n",
    "            loss = criterion(outputs, labels) # Compute loss\n",
    "            loss.backward() # Backward pass\n",
    "            for n, w in model.named_parameters(): # Loop over the parameters                                                                                                                                                                           \n",
    "                if w.grad is not None and n in locked_masks: # If the parameter is in the locked masks                                                                                                                                                                                   \n",
    "                    w.grad[locked_masks[n]] = 0 # Set the gradient to zero\n",
    "            optimizer.step() # Optimize & update weights\n",
    "            running_loss += loss.item()\n",
    "        if epoch % 2 == 1:\n",
    "            print(f'[{epoch + 1}] loss: {running_loss / 2000:.3f}')\n",
    "            running_loss = 0\n",
    "    print('Finished Training')\n",
    "\n",
    "def train_pruned_model_copy(model, trainloader, criterion, optimizer, epochs=2, eps = 1e-7): #copy zero weights and paste them back after the optimizer step\n",
    "    locked_masks = {n: torch.abs(w) < eps for n, w in model.named_parameters() if n.endswith('weight')} # Get a copy of the already pruned weights\n",
    "    for epoch in range(epochs): # Loop over the dataset multiple times\n",
    "        running_loss = 0.0 # Initialize the running loss\n",
    "        for _, data in enumerate(trainloader, 0): # Get the inputs\n",
    "            inputs, labels = data # Zero the parameter gradients\n",
    "            optimizer.zero_grad() # Forward pass\n",
    "            outputs = model(inputs) # Compute loss\n",
    "            loss = criterion(outputs, labels) # Backward pass\n",
    "            loss.backward() # Optimize & update weights\n",
    "            optimizer.step() # Weights update\n",
    "\n",
    "            for n, w in model.named_parameters(): # Loop over the parameters\n",
    "                if n in locked_masks: # If the parameter is in the locked masks \n",
    "                    w.data[locked_masks[n]] = 0 # Set the weights back to zero\n",
    "\n",
    "            running_loss += loss.item()\n",
    "        if epoch % 2 == 1:\n",
    "            print(f'[{epoch + 1}] loss: {running_loss / 2000:.3f}')\n",
    "            running_loss = 0\n",
    "    print('Finished Training')"
   ]
  },
  {
   "cell_type": "code",
   "execution_count": 8,
   "metadata": {},
   "outputs": [
    {
     "name": "stdout",
     "output_type": "stream",
     "text": [
      "[2] loss: 0.337\n",
      "Finished Training\n"
     ]
    }
   ],
   "source": [
    "# train the pruned model a few epochs\n",
    "\n",
    "train_pruned_model_copy(pruned_model, trainloader, criterion, optimizer, epochs=2) # Train the pruned model a few epochs \n",
    "\n",
    "pruned_fine_tuned_acc = test_model(pruned_model, testloader)  # Test the pruned model"
   ]
  },
  {
   "cell_type": "markdown",
   "metadata": {},
   "source": [
    "## Compare and check pruning"
   ]
  },
  {
   "cell_type": "code",
   "execution_count": 9,
   "metadata": {},
   "outputs": [
    {
     "name": "stdout",
     "output_type": "stream",
     "text": [
      "                 Model  Accuracy  Params\n",
      "0             Original     98.41   44190\n",
      "1               Pruned     98.37   22095\n",
      "2  Pruned + Fine-Tuned     98.37   22095\n"
     ]
    }
   ],
   "source": [
    "first_results = pd.DataFrame({\n",
    "    'Model': ['Original', 'Pruned', 'Pruned + Fine-Tuned'],\n",
    "    'Accuracy': [model_acc, pruned_before_retrain_acc, pruned_fine_tuned_acc],\n",
    "    'Params': [compute_parameters_number(model), compute_parameters_number(pruned_model), compute_parameters_number(pruned_model)]\n",
    "})\n",
    "print(first_results)"
   ]
  },
  {
   "cell_type": "markdown",
   "metadata": {},
   "source": [
    "#### We can already be happy with the results as we lost nearly no accuracy with our pruning, meaning that removing the less magnitude weights doesn't affect accuracy much"
   ]
  },
  {
   "cell_type": "markdown",
   "metadata": {},
   "source": [
    "## Lottery ticket\n",
    "\n",
    "#### To check for lottery tickets, we will simply iterate the pruning over and over while always fine-tuning the pruned model so that we identify each time who are the most important weights to keep in our architecture."
   ]
  },
  {
   "cell_type": "code",
   "execution_count": 10,
   "metadata": {},
   "outputs": [],
   "source": [
    "def find_lottery_ticket(model_to_prune, criterion, train_loader, test_loader, pruning_percentage = 0.2, loops = 5, epochs = 1): # Find the lottery ticket\n",
    "    model = copy.deepcopy(model_to_prune) # Create a copy of the model\n",
    "    optimizer = torch.optim.SGD(model.parameters(), lr=0.001, momentum=0.9) # Optimizer\n",
    "    accuracies = [test_model(model, test_loader)] # Test the model\n",
    "    param_numbers = [compute_parameters_number(model)] # Compute the number of parameters\n",
    "    print(f'Epochs: {0}, Accuracy: {accuracies[-1]}, Parameters: {param_numbers[-1]}') # Print the results\n",
    "    for _ in range(loops): # Loop over the number of loops\n",
    "        parameters_to_prune = [] # List of parameters to prune\n",
    "        for name, module in model.named_modules(): # Loop over the modules of the model\n",
    "            if isinstance(module, torch.nn.Conv2d) or isinstance(module, torch.nn.Linear): # If the module is a convolutional or linear layer\n",
    "                parameters_to_prune.append((module, 'weight')) # Add the weights of the module to the list of parameters to prune\n",
    "        percentage = 1 - (1 - pruning_percentage) ** (_ + 1) # Because we canno't really remove the weights, we can only prune a larger percentage of the weights each time, by carefully never updating previous pruned weights\n",
    "        print(f'Pruning {percentage * 100:.2f}% of the weights') \n",
    "        prune.global_unstructured(\n",
    "            parameters_to_prune,\n",
    "            pruning_method=PercentagePruning,\n",
    "            percentage=percentage,\n",
    "        )\n",
    "        for module, name in parameters_to_prune: # Loop over the parameters to prune\n",
    "            prune.remove(module, name) # Apply the mask to the weights\n",
    "        \n",
    "        param_numbers.append(compute_parameters_number(model)) # Compute the number of parameters\n",
    "        train_pruned_model_copy(model, train_loader, criterion, optimizer, epochs) # Fine-tune the model\n",
    "        accuracies.append(test_model(model, test_loader)) # Test the model\n",
    "\n",
    "        #save the model\n",
    "        torch.save(model.state_dict(), f\"lottery_models/model_{_}.pt\")\n",
    "\n",
    "\n",
    "        print(f'Epochs: {_+1}, Accuracy: {accuracies[-1]:.3f}, Parameters: {param_numbers[-1]}')\n",
    "\n",
    "    return model, accuracies, param_numbers"
   ]
  },
  {
   "cell_type": "markdown",
   "metadata": {},
   "source": [
    "#### Perform the lottery ticket algorithm"
   ]
  },
  {
   "cell_type": "code",
   "execution_count": 11,
   "metadata": {},
   "outputs": [
    {
     "name": "stdout",
     "output_type": "stream",
     "text": [
      "Epochs: 0, Accuracy: 98.41, Parameters: 44190\n",
      "Pruning 50.00% of the weights\n"
     ]
    },
    {
     "name": "stderr",
     "output_type": "stream",
     "text": [
      "OMP: Warning #191: Forking a process while a parallel region is active is potentially unsafe.\n",
      "OMP: Warning #191: Forking a process while a parallel region is active is potentially unsafe.\n"
     ]
    },
    {
     "name": "stdout",
     "output_type": "stream",
     "text": [
      "Finished Training\n",
      "Epochs: 1, Accuracy: 98.790, Parameters: 22095\n",
      "Pruning 75.00% of the weights\n",
      "Finished Training\n",
      "Epochs: 2, Accuracy: 98.920, Parameters: 11048\n",
      "Pruning 87.50% of the weights\n"
     ]
    },
    {
     "name": "stderr",
     "output_type": "stream",
     "text": [
      "OMP: Warning #191: Forking a process while a parallel region is active is potentially unsafe.\n"
     ]
    },
    {
     "name": "stdout",
     "output_type": "stream",
     "text": [
      "Finished Training\n",
      "Epochs: 3, Accuracy: 98.920, Parameters: 5524\n",
      "Pruning 93.75% of the weights\n",
      "Finished Training\n",
      "Epochs: 4, Accuracy: 98.540, Parameters: 2762\n",
      "Pruning 96.88% of the weights\n",
      "Finished Training\n"
     ]
    },
    {
     "name": "stderr",
     "output_type": "stream",
     "text": [
      "OMP: Warning #191: Forking a process while a parallel region is active is potentially unsafe.\n"
     ]
    },
    {
     "name": "stdout",
     "output_type": "stream",
     "text": [
      "Epochs: 5, Accuracy: 98.390, Parameters: 1381\n",
      "Pruning 98.44% of the weights\n"
     ]
    },
    {
     "name": "stderr",
     "output_type": "stream",
     "text": [
      "OMP: Warning #191: Forking a process while a parallel region is active is potentially unsafe.\n"
     ]
    },
    {
     "name": "stdout",
     "output_type": "stream",
     "text": [
      "Finished Training\n",
      "Epochs: 6, Accuracy: 97.350, Parameters: 691\n",
      "Pruning 99.22% of the weights\n",
      "Finished Training\n",
      "Epochs: 7, Accuracy: 94.150, Parameters: 346\n",
      "Pruning 99.61% of the weights\n"
     ]
    },
    {
     "name": "stderr",
     "output_type": "stream",
     "text": [
      "OMP: Warning #191: Forking a process while a parallel region is active is potentially unsafe.\n"
     ]
    },
    {
     "name": "stdout",
     "output_type": "stream",
     "text": [
      "Finished Training\n",
      "Epochs: 8, Accuracy: 85.060, Parameters: 173\n",
      "Pruning 99.80% of the weights\n"
     ]
    },
    {
     "name": "stderr",
     "output_type": "stream",
     "text": [
      "OMP: Warning #191: Forking a process while a parallel region is active is potentially unsafe.\n",
      "OMP: Warning #191: Forking a process while a parallel region is active is potentially unsafe.\n",
      "OMP: Warning #191: Forking a process while a parallel region is active is potentially unsafe.\n",
      "OMP: Warning #191: Forking a process while a parallel region is active is potentially unsafe.\n",
      "OMP: Warning #191: Forking a process while a parallel region is active is potentially unsafe.\n",
      "OMP: Warning #191: Forking a process while a parallel region is active is potentially unsafe.\n",
      "OMP: Warning #191: Forking a process while a parallel region is active is potentially unsafe.\n"
     ]
    },
    {
     "name": "stdout",
     "output_type": "stream",
     "text": [
      "Finished Training\n",
      "Epochs: 9, Accuracy: 54.630, Parameters: 87\n",
      "Pruning 99.90% of the weights\n"
     ]
    },
    {
     "name": "stderr",
     "output_type": "stream",
     "text": [
      "OMP: Warning #191: Forking a process while a parallel region is active is potentially unsafe.\n",
      "OMP: Warning #191: Forking a process while a parallel region is active is potentially unsafe.\n"
     ]
    },
    {
     "name": "stdout",
     "output_type": "stream",
     "text": [
      "Finished Training\n",
      "Epochs: 10, Accuracy: 31.680, Parameters: 44\n"
     ]
    },
    {
     "name": "stderr",
     "output_type": "stream",
     "text": [
      "ERROR: EnergyDriver_executeCommands [via readSample] returned 0xe00002bc\n",
      "ERROR: EnergyDriver_executeCommands [via readSample] returned 0xe00002bc\n",
      "ERROR: EnergyDriver_executeCommands [via readSample] returned 0xe00002bc\n",
      "ERROR: EnergyDriver_executeCommands [via readSample] returned 0xe00002bc\n",
      "ERROR: EnergyDriver_executeCommands [via readSample] returned 0xe00002bc\n",
      "ERROR: EnergyDriver_executeCommands [via readSample] returned 0xe00002bc\n",
      "ERROR: EnergyDriver_executeCommands [via readSample] returned 0xe00002bc\n",
      "ERROR: EnergyDriver_executeCommands [via readSample] returned 0xe00002bc\n",
      "ERROR: EnergyDriver_executeCommands [via readSample] returned 0xe00002bc\n",
      "ERROR: EnergyDriver_executeCommands [via readSample] returned 0xe00002bc\n",
      "ERROR: EnergyDriver_executeCommands [via readSample] returned 0xe00002bc\n",
      "ERROR: EnergyDriver_executeCommands [via readSample] returned 0xe00002bc\n",
      "ERROR: EnergyDriver_executeCommands [via readSample] returned 0xe00002bc\n",
      "ERROR: EnergyDriver_executeCommands [via readSample] returned 0xe00002bc\n",
      "ERROR: EnergyDriver_executeCommands [via readSample] returned 0xe00002bc\n",
      "ERROR: EnergyDriver_executeCommands [via readSample] returned 0xe00002bc\n",
      "ERROR: EnergyDriver_executeCommands [via readSample] returned 0xe00002bc\n"
     ]
    }
   ],
   "source": [
    "tracker = EmissionsTracker(save_to_file=False, log_level='critical') # Create the tracker\n",
    "\n",
    "tracker.start() # Start the tracker\n",
    "\n",
    "lottery_ticket, accuracies, param_numbers = find_lottery_ticket(model, torch.nn.CrossEntropyLoss(), trainloader, testloader, pruning_percentage=0.5, loops=10, epochs=1) # Find the lottery ticket\n",
    "\n",
    "pruning_emissions = tracker.stop() # Stop the tracker"
   ]
  },
  {
   "cell_type": "code",
   "execution_count": 12,
   "metadata": {},
   "outputs": [
    {
     "data": {
      "image/png": "[encoded data removed]",
      "text/plain": [
       "<Figure size 640x480 with 1 Axes>"
      ]
     },
     "metadata": {},
     "output_type": "display_data"
    },
    {
     "name": "stdout",
     "output_type": "stream",
     "text": [
      "Pruning emissions: 0.0002813856342441691\n"
     ]
    }
   ],
   "source": [
    "import matplotlib.pyplot as plt\n",
    "import numpy as np\n",
    "\n",
    "plt.plot(np.asarray(param_numbers) / compute_parameters_number(model), accuracies, marker='o') # Plot the results\n",
    "plt.gca().invert_xaxis() # Invert the x-axis\n",
    "plt.xlabel('Parameters %')\n",
    "plt.ylabel('Accuracy')\n",
    "plt.title('Accuracy vs Parameters %')\n",
    "plt.show()\n",
    "\n",
    "print(f'Pruning emissions: {pruning_emissions}')\n"
   ]
  },
  {
   "cell_type": "markdown",
   "metadata": {},
   "source": [
    "#### The results are really satisfying and way above the expectations ! Now let's check if it boosts the inference time or if we can't yet handle sparse matrices multiplications within Pytorch"
   ]
  },
  {
   "cell_type": "code",
   "execution_count": 13,
   "metadata": {},
   "outputs": [
    {
     "name": "stdout",
     "output_type": "stream",
     "text": [
      "Original inference time: 0.135s\n",
      "Pruned inference time: 0.104s\n"
     ]
    }
   ],
   "source": [
    "#compare inference time for the original model and the pruned model\n",
    "\n",
    "import time\n",
    "\n",
    "def inference_time(model, testloade, num_loops = 100, warmup = 10):\n",
    "\n",
    "    #warmup\n",
    "    for i, data in enumerate(testloader, 0): #warmup to avoid the first iterations to be slower\n",
    "        if i == warmup: # Stop the loop after warmup\n",
    "            break\n",
    "        inputs, _ = data\n",
    "        model(inputs)\n",
    "\n",
    "    start = time.time()\n",
    "    tracker = codecarbon.EmissionsTracker(log_level='critical', save_to_file=False) # Create the tracker\n",
    "    tracker.start() # Start the tracker\n",
    "    for i, data in enumerate(testloader, 0):  # Loop over the test set\n",
    "        if i == num_loops: # Stop the loop after num_loops\n",
    "            break\n",
    "        inputs, _ = data\n",
    "        model(inputs)\n",
    "    total_em = tracker.stop() # Stop the tracker\n",
    "    end = time.time() # End time\n",
    "\n",
    "    return (end - start) / num_loops, total_em / num_loops\n",
    "\n",
    "original_inference_time, original_emissions = inference_time(model, testloader)\n",
    "\n",
    "pruned_inference_time, pruned_emissions = inference_time(lottery_ticket, testloader)\n",
    "\n",
    "print(f'Original inference time: {original_inference_time:.3f}s')\n",
    "\n",
    "print(f'Pruned inference time: {pruned_inference_time:.3f}s')\n",
    "\n"
   ]
  },
  {
   "cell_type": "markdown",
   "metadata": {},
   "source": [
    "#### Let's try with a more realistic model, the 4th one"
   ]
  },
  {
   "cell_type": "code",
   "execution_count": 15,
   "metadata": {},
   "outputs": [
    {
     "name": "stdout",
     "output_type": "stream",
     "text": [
      "Pruned inference time: 0.129s\n"
     ]
    }
   ],
   "source": [
    "#load model\n",
    "pruned_model_4 = MNIST_Model()\n",
    "pruned_model_4.load_state_dict(torch.load(\"lottery_models/model_4.pt\"))\n",
    "\n",
    "#check for inference time\n",
    "pruned_inference_time_4, pruned_emissions_4 = inference_time(pruned_model_4, testloader)\n",
    "\n",
    "print(f'Pruned inference time: {pruned_inference_time_4:.3f}s')"
   ]
  },
  {
   "cell_type": "markdown",
   "metadata": {},
   "source": [
    "## As expected, the inference time doesn't change very much despite the large amount of pruned weights"
   ]
  },
  {
   "cell_type": "code",
   "execution_count": 16,
   "metadata": {},
   "outputs": [
    {
     "name": "stdout",
     "output_type": "stream",
     "text": [
      "Original model size: 180956 bytes\n",
      "Pruned model size: 180956 bytes\n",
      "Pruned model size 4: 180956 bytes\n"
     ]
    }
   ],
   "source": [
    "#model size\n",
    "import os\n",
    "def model_size(model):\n",
    "    torch.save(model.state_dict(), 'model.pt')\n",
    "    size = os.path.getsize('model.pt')\n",
    "    os.remove('model.pt')\n",
    "    return size\n",
    "\n",
    "print(f'Original model size: {model_size(model)} bytes')\n",
    "print(f'Pruned model size: {model_size(lottery_ticket)} bytes')\n",
    "print(f'Pruned model size 4: {model_size(pruned_model_4)} bytes')"
   ]
  },
  {
   "cell_type": "markdown",
   "metadata": {},
   "source": [
    "### Maybe we could try quantizing the zero weights \n"
   ]
  },
  {
   "cell_type": "markdown",
   "metadata": {},
   "source": []
  }
 ],
 "metadata": {
  "kernelspec": {
   "display_name": ".venv",
   "language": "python",
   "name": "python3"
  },
  "language_info": {
   "codemirror_mode": {
    "name": "ipython",
    "version": 3
   },
   "file_extension": ".py",
   "mimetype": "text/x-python",
   "name": "python",
   "nbconvert_exporter": "python",
   "pygments_lexer": "ipython3",
   "version": "3.12.2"
  }
 },
 "nbformat": 4,
 "nbformat_minor": 2
}
